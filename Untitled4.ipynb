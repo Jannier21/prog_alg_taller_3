{
  "nbformat": 4,
  "nbformat_minor": 0,
  "metadata": {
    "colab": {
      "provenance": [],
      "authorship_tag": "ABX9TyMyYoXkznjsR0bTQF/yMiGa",
      "include_colab_link": true
    },
    "kernelspec": {
      "name": "python3",
      "display_name": "Python 3"
    },
    "language_info": {
      "name": "python"
    }
  },
  "cells": [
    {
      "cell_type": "markdown",
      "metadata": {
        "id": "view-in-github",
        "colab_type": "text"
      },
      "source": [
        "<a href=\"https://colab.research.google.com/github/Jannier21/prog_alg_taller_3/blob/main/Untitled4.ipynb\" target=\"_parent\"><img src=\"https://colab.research.google.com/assets/colab-badge.svg\" alt=\"Open In Colab\"/></a>"
      ]
    },
    {
      "cell_type": "markdown",
      "source": [
        "# **TALLER_3: problemas para resolver**\n",
        "\n",
        "# **info. Del estudiante:**\n",
        "\n",
        "**NOMBRE:** Jannier david navarro martinez\n",
        "\n",
        "**ID ESTUDIANTE:** 000496984\n",
        "\n",
        "**UNIVERSIDAD:** Universidad pontificia bolivariana"
      ],
      "metadata": {
        "id": "2HpV9OPdg_iN"
      }
    },
    {
      "cell_type": "markdown",
      "source": [
        "# **problema 1**\n",
        "\n",
        "Calcular y mostrar la posición de una partícula que experimenta movimiento uniformemente\n",
        "acelerado a partir de su posición inicial (𝑥0), velocidad inicial (𝑣0) y aceleración (𝑎) en dos instantes de\n",
        "tiempo diferentes. La posición en un instante de tiempo está dada por:\n",
        "\n",
        "**𝑥 = 𝑥0 + 𝑣0 * 𝑡 + 1/2 * 𝑎 * 𝑡2**\n",
        "\n",
        "Los parámetros de la ecuación, así como el instante de tiempo para el cual se desea evaluar deben ser ingresados por el usuario.\n",
        "\n",
        "# **solucion**"
      ],
      "metadata": {
        "id": "WQpROC7sxIUC"
      }
    },
    {
      "cell_type": "code",
      "source": [
        "print(\"preograma que nos ejecuta el calculo de una particula\")\n",
        "print(\"_\"*20)\n",
        "X0 = float(input('ingresar posicion inicial de (X0): '))\n",
        "V0 = float(input(\"ingresar velocidad inicial de (V0): \"))\n",
        "a = float(input(\"ingresa la aceleracion (a): \"))\n",
        "t = float(input(\"ingresa el tiempo (t): \"))\n",
        "print(\"_\"*20)\n",
        "x = X0 + V0 * t + 1/2 * a * t * t\n",
        "print(\"encontramos la pocicion de la particula con posicion inicial\", str(X0), \"(X0) y la velocidad de\", str(V0), \"(V0) y aceleracion de\", str(a), \"(a) y tiempo de\", str(t), \"(t) y la posicion en\", str(x), \"m\")"
      ],
      "metadata": {
        "colab": {
          "base_uri": "https://localhost:8080/"
        },
        "id": "AHk1Kd4_yEfd",
        "outputId": "f649c8de-751c-4438-ce37-cd8664a28efb"
      },
      "execution_count": 18,
      "outputs": [
        {
          "output_type": "stream",
          "name": "stdout",
          "text": [
            "preograma que nos ejecuta el calculo de una particula\n",
            "____________________\n",
            "ingresar posicion inicial de (X0): 20\n",
            "ingresar velocidad inicial de (V0): 10\n",
            "ingresa la aceleracion (a): 18\n",
            "ingresa el tiempo (t): 9\n",
            "____________________\n",
            "encontramos la pocicion de la particula con posicion inicial 20.0 (X0) y la velocidad de 10.0 (V0) y aceleracion de 18.0 (a) y tiempo de 9.0 (t) y la posicion en 839.0 m\n"
          ]
        }
      ]
    },
    {
      "cell_type": "markdown",
      "source": [
        "# **problema 2**\n",
        "\n",
        "Calcular y mostrar la distancia entre dos puntos 𝑃1 y 𝑃2 ubicados en las coordenadas (𝑥1, 𝑦1) y (𝑥2, y2). La distancia euclidiana se calcula con la ecuación:\n",
        "\n",
        "# **𝑑 = √(𝑥2 − 𝑥1)2 + (𝑦2 − 𝑦1)2**\n",
        "\n",
        "Las coordenadas (𝑥, 𝑦) de cada punto deben ser números decimales ingresados por el usuario. Se recomienda ingresar cada componente de la coordenada por separado para cada punto.\n",
        "\n",
        "# **Solucion**\n"
      ],
      "metadata": {
        "id": "o3uNYwi731TW"
      }
    },
    {
      "cell_type": "code",
      "source": [
        "import math\n",
        "print(\"calcular la distancia entre dos puntos\")\n",
        "print(\"_\"*20)\n",
        "x1 = float(input(\"ingresar las coordenadas de (x1): \"))\n",
        "x2 = float(input(\"ingresar las coordenadas de (x2): \"))\n",
        "y1 = float(input(\"ingresar las coordenadas de (y1): \"))\n",
        "y2 = float(input(\"ingresar las coordenadas de (y2): \"))\n",
        "print(\"_\"*20)\n",
        "d = math.sqrt((x2 - x1) ** 2 + (y2 - y1) ** 2)\n",
        "print(\"_\"*20)\n",
        "print(\"la distancia entre dos punos con coordenadas de\", str(x1), \"(x1) y coordenadas de\", str(x2), \"(x2) y coordenadas de\", str(y1), \"(y1) y coordenadas de\", str(y2), \"(y2) para una distancia de\", str(d), \"m\")"
      ],
      "metadata": {
        "colab": {
          "base_uri": "https://localhost:8080/"
        },
        "id": "M52xC4n95EL7",
        "outputId": "1b03f6df-761f-489c-81cc-6f715f98226e"
      },
      "execution_count": 17,
      "outputs": [
        {
          "output_type": "stream",
          "name": "stdout",
          "text": [
            "calcular la distancia entre dos puntos\n",
            "____________________\n",
            "ingresar las coordenadas de (x1): 10.5\n",
            "ingresar las coordenadas de (x2): 16.8\n",
            "ingresar las coordenadas de (y1): 11.0\n",
            "ingresar las coordenadas de (y2): 9.16\n",
            "____________________\n",
            "____________________\n",
            "la distancia entre dos punos con coordenadas de 10.5 (x1) y coordenadas de 16.8 (x2) y coordenadas de 11.0 (y1) y coordenadas de 9.16 (y2) para una distancia de 6.5632004388103224 m\n"
          ]
        }
      ]
    },
    {
      "cell_type": "markdown",
      "source": [
        "# **problema 3**\n",
        "\n",
        "Calcular y mostrar el valor del volumen de un cilindro cuyo radio y altura sean ingresados por el usuario. El volumen de un cilindro está dado por:\n",
        "\n",
        "# **𝑉 = 𝜋𝑟2ℎ**\n",
        "\n",
        "Donde 𝜋 = 3.141592, 𝑟 es el radio y ℎ la altura."
      ],
      "metadata": {
        "id": "ZtRj9et8_HoH"
      }
    },
    {
      "cell_type": "code",
      "source": [
        "print(\"calcular el volumen de un cilindro\")\n",
        "print(\"_\"*20)\n",
        "r = float(input(\"conocer el valor de (r): \"))\n",
        "h = float(input(\"conocer el valor de la altura (h): \"))\n",
        "print(\"_\"*20)\n",
        "v = 3.14 * r * r * h\n",
        "print(\"el volumen del raduio de\", str(r), \"(r) la altura es de\", str(h), \"(h) entonces el volumen es de\", str(v), \"m3\")"
      ],
      "metadata": {
        "colab": {
          "base_uri": "https://localhost:8080/"
        },
        "id": "dlY0SxVt_v5Z",
        "outputId": "0af7d654-d4c2-4add-ce55-5c88b29b2d06"
      },
      "execution_count": 16,
      "outputs": [
        {
          "output_type": "stream",
          "name": "stdout",
          "text": [
            "calcular el volumen de un cilindro\n",
            "____________________\n",
            "conocer el valor de (r): 15\n",
            "conocer el valor de la altura (h): 21.03\n",
            "____________________\n",
            "el volumen del raduio de 15.0 (r) la altura es de 21.03 (h) entonces el volumen es de 14857.695000000002 m3\n"
          ]
        }
      ]
    },
    {
      "cell_type": "markdown",
      "source": [
        "# **problama 4**\n",
        "\n",
        "Calcular y mostrar el resultado de las siguientes operaciones lógicas:\n",
        "\n",
        "# **1. A > B y B > D**\n",
        "# **2. B <= C o C < D**\n",
        "# **3. A = B y B > C**\n",
        "# **4. A < C o B < C**\n",
        "# **5. A + D < C y B > 5**\n",
        "# **6. D – C >= - A * B**\n",
        "# **7. D * C == 5 o C * A > 9**\n",
        "# **8. A * B + C > - D * 10**\n",
        "\n",
        "Los valores de A, B, C y D deben ser números decimales ingresados por el usuario."
      ],
      "metadata": {
        "id": "__CChndWC_iO"
      }
    },
    {
      "cell_type": "code",
      "source": [
        "# reconocer valores de A, B, C, D\n",
        "A = 10.5\n",
        "B = 11\n",
        "C = 25.06\n",
        "D = 21.\n",
        "print(\"_\"*20)\n",
        "# 1. A > B y B > D\n",
        "solucion1 = A > B and B > D\n",
        "\n",
        "print(\"_\"*20)\n",
        "# 2. B <= C o C < D\n",
        "solucion2 = B <= C or C < D\n",
        "\n",
        "print(\"_\"*20)\n",
        "# 3. A = B y B > C\n",
        "solucion3 = A = B and B > C\n",
        "\n",
        "print(\"_\"*20)\n",
        "# 4. A < C o B < C\n",
        "solucion4 = A < C or B < C\n",
        "\n",
        "print(\"_\"*20)\n",
        "# 5. A + D < C y B > 5\n",
        "solucion5 = A + D < C and B > 5\n",
        "\n",
        "print(\"_\"*20)\n",
        "# 6. D – C >= - A * B\n",
        "solucion6 = D - C >= - A * B\n",
        "\n",
        "print(\"_\"*20)\n",
        " # 7. D * C == 5 o C * A > 9\n",
        "solucion7 = D * C == 5 or C * A > 9\n",
        "\n",
        "print(\"_\"*20)\n",
        "# 8. A * B + C > - D * 10\n",
        "solucion8 = A * B + C > - D * 10\n",
        "\n",
        "print(\"_\"*20)\n",
        "\n",
        "# dolucion de los resultados\n",
        "print(\"damos resultado 1: \", solucion1)\n",
        "print(\"damos resultado 2: \", solucion2)\n",
        "print(\"damos resultado 3: \", solucion3)\n",
        "print(\"damos resultado 4: \", solucion4)\n",
        "print(\"damos resultado 5: \", solucion5)\n",
        "print(\"damos resultado 6: \", solucion6)\n",
        "print(\"damos resultado 7: \", solucion7)\n",
        "print(\"damos resultado 8: \", solucion8)"
      ],
      "metadata": {
        "colab": {
          "base_uri": "https://localhost:8080/"
        },
        "id": "GPvU3Ei5EGy5",
        "outputId": "b0dcf2f4-3827-4940-fa43-b17cd612ab81"
      },
      "execution_count": 19,
      "outputs": [
        {
          "output_type": "stream",
          "name": "stdout",
          "text": [
            "____________________\n",
            "____________________\n",
            "____________________\n",
            "____________________\n",
            "____________________\n",
            "____________________\n",
            "____________________\n",
            "____________________\n",
            "____________________\n",
            "damos resultado 1:  False\n",
            "damos resultado 2:  True\n",
            "damos resultado 3:  False\n",
            "damos resultado 4:  True\n",
            "damos resultado 5:  True\n",
            "damos resultado 6:  False\n",
            "damos resultado 7:  False\n",
            "damos resultado 8:  True\n"
          ]
        }
      ]
    },
    {
      "cell_type": "code",
      "source": [
        "song = \"\"\"Hecho por el estudiante, JANNIER DAVID NAVARRO MARTINEZ, con numero de identificacion universitario \"id\": 000496984, proveniente de la universidad pontificia bolivariana solucion del TALLER_3\"\"\"\n",
        "print(song)"
      ],
      "metadata": {
        "colab": {
          "base_uri": "https://localhost:8080/"
        },
        "id": "kb9NyFzgHtDE",
        "outputId": "db9f67ad-7b4d-4e96-9089-845df6ce18fe"
      },
      "execution_count": 23,
      "outputs": [
        {
          "output_type": "stream",
          "name": "stdout",
          "text": [
            "Hecho por el estudiante, JANNIER DAVID NAVARRO MARTINEZ, con numero de identificacion universitario \"id\": 000496984, proveniente de la universidad pontificia bolivariana solucion del TALLER_3\n"
          ]
        }
      ]
    },
    {
      "cell_type": "markdown",
      "source": [
        "# **MUCHAS GRACIAS.**"
      ],
      "metadata": {
        "id": "4a3ANO8dJGQR"
      }
    }
  ]
}